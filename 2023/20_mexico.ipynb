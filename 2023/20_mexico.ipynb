{
 "cells": [
  {
   "cell_type": "code",
   "execution_count": null,
   "metadata": {},
   "outputs": [],
   "source": [
    "# ライブラリの再読み込み用\n",
    "# このノートを実行後、ライブラリのインポートから再実行する\n",
    "import importlib\n",
    "import fastf1lib\n",
    "importlib.reload(fastf1lib)"
   ]
  },
  {
   "cell_type": "code",
   "execution_count": null,
   "metadata": {},
   "outputs": [],
   "source": [
    "import sys\n",
    "import importlib\n",
    "sys.path.append(\"../libs\")\n",
    "from fastf1lib import myFastf1\n",
    "importlib.reload(sys.modules[\"fastf1lib\"])\n",
    "\n",
    "ff1 = myFastf1()"
   ]
  },
  {
   "cell_type": "code",
   "execution_count": null,
   "metadata": {},
   "outputs": [],
   "source": [
    "session_fp1 = ff1.load_session_o(\"mexico\", 2023, 1)"
   ]
  }
 ],
 "metadata": {
  "language_info": {
   "name": "python"
  }
 },
 "nbformat": 4,
 "nbformat_minor": 2
}
